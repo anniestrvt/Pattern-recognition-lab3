{
 "cells": [
  {
   "cell_type": "code",
   "execution_count": 2,
   "metadata": {},
   "outputs": [
    {
     "name": "stdout",
     "output_type": "stream",
     "text": [
      "Populating the interactive namespace from numpy and matplotlib\n"
     ]
    },
    {
     "name": "stderr",
     "output_type": "stream",
     "text": [
      "/Users/anna/opt/anaconda2/envs/p36workshop/lib/python3.6/site-packages/IPython/core/magics/pylab.py:160: UserWarning: pylab import has clobbered these variables: ['random']\n",
      "`%matplotlib` prevents importing * from pylab and numpy\n",
      "  \"\\n`%matplotlib` prevents importing * from pylab and numpy\"\n"
     ]
    }
   ],
   "source": [
    "import cv2\n",
    "import os\n",
    "import numpy as np\n",
    "import sklearn\n",
    "from sklearn.cluster import MiniBatchKMeans\n",
    "from scipy.spatial import distance\n",
    "from sklearn.ensemble import GradientBoostingClassifier\n",
    "from sklearn.ensemble import RandomForestClassifier\n",
    "from sklearn.tree import DecisionTreeClassifier\n",
    "from sklearn.model_selection import GridSearchCV\n",
    "import random\n",
    "from xgboost import XGBClassifier\n",
    "%pylab inline"
   ]
  },
  {
   "cell_type": "code",
   "execution_count": 3,
   "metadata": {},
   "outputs": [],
   "source": [
    "def load_images_from_folder(folder):\n",
    "    images = list()\n",
    "    labels = list()\n",
    "    i = 0\n",
    "    for filename in os.listdir(folder):\n",
    "        if filename !='.DS_Store':    \n",
    "            path = folder + \"/\" + filename\n",
    "            for cat in os.listdir(path):\n",
    "                img = cv2.imread(path + \"/\" + cat,0)\n",
    "                #img = cv2.cvtColor(img, cv2.COLOR_BGR2GRAY)\n",
    "                if img is not None:\n",
    "                    images.append(img)\n",
    "                    labels.append(i)\n",
    "            i = i + 1\n",
    "    return images, labels"
   ]
  },
  {
   "cell_type": "code",
   "execution_count": 4,
   "metadata": {},
   "outputs": [],
   "source": [
    "def descriptor_features(X):\n",
    "    descriptor_list = []\n",
    "    akaze = cv2.AKAZE_create()\n",
    "    for i in range(0, len(X)):\n",
    "        kp,des = akaze.detectAndCompute(X[i], None)\n",
    "        descriptor_list.extend(des)\n",
    "    return descriptor_list"
   ]
  },
  {
   "cell_type": "code",
   "execution_count": 5,
   "metadata": {},
   "outputs": [],
   "source": [
    "def kmeans(k, descriptor_list):\n",
    "    kmeans = MiniBatchKMeans(n_clusters=k, n_init=10)\n",
    "    kmeans.fit(descriptor_list)\n",
    "    visual_words = kmeans.cluster_centers_\n",
    "    return visual_words"
   ]
  },
  {
   "cell_type": "code",
   "execution_count": 6,
   "metadata": {},
   "outputs": [],
   "source": [
    "def find_index(image, center):\n",
    "    count = 0\n",
    "    ind = 0\n",
    "    dist = 0\n",
    "    for i in range(len(center)):\n",
    "        if(i == 0):\n",
    "            count = distance.euclidean(image, center[i])\n",
    "            dist = count\n",
    "            #count = L1_dist(image, center[i])\n",
    "        else:\n",
    "            dist = distance.euclidean(image, center[i])\n",
    "            #dist = L1_dist(image, center[i])\n",
    "        if(dist < count):\n",
    "            ind = i\n",
    "            count = dist\n",
    "    return ind"
   ]
  },
  {
   "cell_type": "code",
   "execution_count": 7,
   "metadata": {},
   "outputs": [],
   "source": [
    "def image_class(X, centers):\n",
    "    dict_feature = list()\n",
    "    akaze = cv2.AKAZE_create()\n",
    "    for i in range(0, len(X)):\n",
    "        #print(i)\n",
    "        kp,des = akaze.detectAndCompute(X[i], None)\n",
    "        histogram = np.zeros(len(centers))\n",
    "        for each_feature in des:\n",
    "            \n",
    "            ind = find_index(each_feature, centers)\n",
    "            histogram[ind] += 1\n",
    "        dict_feature.append(histogram)\n",
    "    return dict_feature"
   ]
  },
  {
   "cell_type": "code",
   "execution_count": 8,
   "metadata": {},
   "outputs": [],
   "source": [
    "X, y = load_images_from_folder('/Users/anna/detection/Photos')\n",
    "X_train, X_test, y_train, y_test = sklearn.model_selection.train_test_split(X, y, test_size = 0.2, random_state = 42)\n",
    "descriptors = descriptor_features(X_train)\n",
    "words = kmeans(200, descriptors)\n",
    "X_train_new = image_class(X_train, words)\n",
    "X_test_new = image_class(X_test, words)"
   ]
  },
  {
   "cell_type": "markdown",
   "metadata": {},
   "source": [
    "Буда - 83 , Парфум - 89, нічого - 65"
   ]
  },
  {
   "cell_type": "code",
   "execution_count": 9,
   "metadata": {},
   "outputs": [
    {
     "name": "stdout",
     "output_type": "stream",
     "text": [
      "89 83\n"
     ]
    }
   ],
   "source": [
    "c1 = 0\n",
    "c0 = 0\n",
    "for i in range(0, len(y)):\n",
    "    if y[i]==1:\n",
    "        c1 = c1 + 1\n",
    "    if y[i] == 0:\n",
    "        c0 = c0 + 1\n",
    "print(c1, c0)"
   ]
  },
  {
   "cell_type": "markdown",
   "metadata": {},
   "source": [
    "парфум = 1, Буда = 0, нічого = 2( class labels)"
   ]
  },
  {
   "cell_type": "markdown",
   "metadata": {},
   "source": [
    "### Функція для знаходження статистики по кожному методу "
   ]
  },
  {
   "cell_type": "code",
   "execution_count": 10,
   "metadata": {},
   "outputs": [],
   "source": [
    "def get_errors(y1, y2):\n",
    "    errors = np.zeros((3, 2))\n",
    "    S = 0\n",
    "    for i in range(0, len(y1)):\n",
    "        a = y1[i]\n",
    "        b = y2[i]\n",
    "        if a == b:\n",
    "            S = S + 1\n",
    "        if a == 0 and b == 1:\n",
    "            errors[0][0] = errors[0][0] + 1\n",
    "        if a == 0 and b == 2:\n",
    "            errors[0][1]+=1\n",
    "        if a == 1 and b == 0:\n",
    "            errors[1][0] += 1\n",
    "        if a == 1 and b == 2:\n",
    "            errors[1][1] += 1\n",
    "        if a == 2 and b == 0:\n",
    "            errors[2][0] += 1\n",
    "        if a == 2 and b == 1:\n",
    "            errors[2][1] += 1\n",
    "    errors = errors/len(y1)\n",
    "    S = S/len(y1)\n",
    "    return errors, S"
   ]
  },
  {
   "cell_type": "markdown",
   "metadata": {},
   "source": [
    "# Вибір класифікатора без підбору параметрів"
   ]
  },
  {
   "cell_type": "markdown",
   "metadata": {},
   "source": [
    "## Градієнтний бустінг"
   ]
  },
  {
   "cell_type": "code",
   "execution_count": 41,
   "metadata": {},
   "outputs": [
    {
     "data": {
      "text/plain": [
       "(array([[0.        , 0.        ],\n",
       "        [0.02083333, 0.04166667],\n",
       "        [0.08333333, 0.125     ]]),\n",
       " 0.7291666666666666)"
      ]
     },
     "execution_count": 41,
     "metadata": {},
     "output_type": "execute_result"
    }
   ],
   "source": [
    "model = GradientBoostingClassifier()\n",
    "model.fit(X_train_new, y_train)\n",
    "y_pred = model.predict(X_test_new)\n",
    "get_errors(y_test, y_pred)"
   ]
  },
  {
   "cell_type": "markdown",
   "metadata": {},
   "source": [
    "## Випадковий ліс"
   ]
  },
  {
   "cell_type": "code",
   "execution_count": 12,
   "metadata": {},
   "outputs": [
    {
     "data": {
      "text/plain": [
       "(array([[0.        , 0.04166667],\n",
       "        [0.02083333, 0.02083333],\n",
       "        [0.08333333, 0.125     ]]),\n",
       " 0.7083333333333334)"
      ]
     },
     "execution_count": 12,
     "metadata": {},
     "output_type": "execute_result"
    }
   ],
   "source": [
    "model = RandomForestClassifier()\n",
    "model.fit(X_train_new, y_train)\n",
    "y_pred = model.predict(X_test_new)\n",
    "get_errors(y_test, y_pred)"
   ]
  },
  {
   "cell_type": "markdown",
   "metadata": {},
   "source": [
    "## Дерево прийняття рішень"
   ]
  },
  {
   "cell_type": "code",
   "execution_count": 13,
   "metadata": {},
   "outputs": [
    {
     "data": {
      "text/plain": [
       "(array([[0.04166667, 0.14583333],\n",
       "        [0.04166667, 0.0625    ],\n",
       "        [0.0625    , 0.10416667]]),\n",
       " 0.5416666666666666)"
      ]
     },
     "execution_count": 13,
     "metadata": {},
     "output_type": "execute_result"
    }
   ],
   "source": [
    "model = DecisionTreeClassifier()\n",
    "model.fit(X_train_new, y_train)\n",
    "y_pred = model.predict(X_test_new)\n",
    "get_errors(y_test, y_pred)"
   ]
  },
  {
   "cell_type": "markdown",
   "metadata": {},
   "source": [
    "## XGBClassifier"
   ]
  },
  {
   "cell_type": "code",
   "execution_count": 14,
   "metadata": {},
   "outputs": [
    {
     "data": {
      "text/plain": [
       "(array([[0.        , 0.0625    ],\n",
       "        [0.02083333, 0.02083333],\n",
       "        [0.08333333, 0.08333333]]),\n",
       " 0.7291666666666666)"
      ]
     },
     "execution_count": 14,
     "metadata": {},
     "output_type": "execute_result"
    }
   ],
   "source": [
    "model = XGBClassifier()\n",
    "arr = np.array(y_train)\n",
    "arr1 = np.array(X_train_new)\n",
    "arr2 = np.array(X_test_new)\n",
    "model.fit(arr1, arr)\n",
    "y_pred = model.predict(arr2)\n",
    "get_errors(y_test, y_pred)"
   ]
  },
  {
   "cell_type": "markdown",
   "metadata": {},
   "source": [
    "# Підбір параметрів для кожного з методів за допомогою GridSearch"
   ]
  },
  {
   "cell_type": "markdown",
   "metadata": {},
   "source": [
    "## GradientBoostingClassifier"
   ]
  },
  {
   "cell_type": "code",
   "execution_count": 53,
   "metadata": {},
   "outputs": [
    {
     "data": {
      "text/plain": [
       "GridSearchCV(estimator=GradientBoostingClassifier(),\n",
       "             param_grid={'max_depth': (3, 5, 8), 'min_samples_leaf': (1, 3, 4),\n",
       "                         'min_samples_split': (2, 4, 6),\n",
       "                         'n_estimators': (100, 150)},\n",
       "             return_train_score=True)"
      ]
     },
     "execution_count": 53,
     "metadata": {},
     "output_type": "execute_result"
    }
   ],
   "source": [
    "parameters = {'min_samples_split':(2,4, 6), \n",
    "              'min_samples_leaf':(1, 3,4), \n",
    "              'max_depth':(3,5,8),\n",
    "             'n_estimators':(100, 150)}\n",
    "m = GradientBoostingClassifier()\n",
    "model1 = GridSearchCV(m, parameters, return_train_score = True)\n",
    "model1.fit(X_train_new, y_train)\n"
   ]
  },
  {
   "cell_type": "code",
   "execution_count": 54,
   "metadata": {},
   "outputs": [
    {
     "name": "stdout",
     "output_type": "stream",
     "text": [
      "CPU times: user 2.71 ms, sys: 1.09 ms, total: 3.8 ms\n",
      "Wall time: 2.96 ms\n"
     ]
    },
    {
     "data": {
      "text/plain": [
       "(array([[0.        , 0.04166667],\n",
       "        [0.04166667, 0.02083333],\n",
       "        [0.08333333, 0.08333333]]),\n",
       " 0.7291666666666666)"
      ]
     },
     "execution_count": 54,
     "metadata": {},
     "output_type": "execute_result"
    }
   ],
   "source": [
    "%%time\n",
    "y_pred = model1.predict(X_test_new)\n",
    "get_errors(y_test, y_pred)"
   ]
  },
  {
   "cell_type": "code",
   "execution_count": 55,
   "metadata": {},
   "outputs": [
    {
     "data": {
      "text/plain": [
       "{'max_depth': 5,\n",
       " 'min_samples_leaf': 4,\n",
       " 'min_samples_split': 2,\n",
       " 'n_estimators': 150}"
      ]
     },
     "execution_count": 55,
     "metadata": {},
     "output_type": "execute_result"
    }
   ],
   "source": [
    "model1.best_params_"
   ]
  },
  {
   "cell_type": "code",
   "execution_count": 56,
   "metadata": {},
   "outputs": [
    {
     "data": {
      "text/plain": [
       "0.6716927453769559"
      ]
     },
     "execution_count": 56,
     "metadata": {},
     "output_type": "execute_result"
    }
   ],
   "source": [
    "model1.best_score_"
   ]
  },
  {
   "cell_type": "markdown",
   "metadata": {},
   "source": [
    "## RandomForestClassifier"
   ]
  },
  {
   "cell_type": "code",
   "execution_count": 57,
   "metadata": {},
   "outputs": [
    {
     "data": {
      "text/plain": [
       "(array([[0.        , 0.02083333],\n",
       "        [0.02083333, 0.        ],\n",
       "        [0.10416667, 0.14583333]]),\n",
       " 0.7083333333333334)"
      ]
     },
     "execution_count": 57,
     "metadata": {},
     "output_type": "execute_result"
    }
   ],
   "source": [
    "parameters = {'n_estimators':(100,125, 150), \n",
    "              'min_samples_split':(2, 4, 3),\n",
    "             'min_samples_leaf':(1, 3, 5)}\n",
    "m = RandomForestClassifier()\n",
    "model2 = GridSearchCV(m, parameters, return_train_score = True)\n",
    "model2.fit(X_train_new, y_train)\n",
    "y_pred = model2.predict(X_test_new)\n",
    "get_errors(y_test, y_pred)"
   ]
  },
  {
   "cell_type": "code",
   "execution_count": 58,
   "metadata": {},
   "outputs": [
    {
     "name": "stdout",
     "output_type": "stream",
     "text": [
      "CPU times: user 30.4 ms, sys: 2.94 ms, total: 33.4 ms\n",
      "Wall time: 38 ms\n"
     ]
    },
    {
     "data": {
      "text/plain": [
       "(array([[0.        , 0.02083333],\n",
       "        [0.02083333, 0.        ],\n",
       "        [0.10416667, 0.14583333]]),\n",
       " 0.7083333333333334)"
      ]
     },
     "execution_count": 58,
     "metadata": {},
     "output_type": "execute_result"
    }
   ],
   "source": [
    "%%time\n",
    "y_pred = model2.predict(X_test_new)\n",
    "get_errors(y_test, y_pred)"
   ]
  },
  {
   "cell_type": "code",
   "execution_count": 59,
   "metadata": {},
   "outputs": [
    {
     "data": {
      "text/plain": [
       "{'min_samples_leaf': 1, 'min_samples_split': 4, 'n_estimators': 150}"
      ]
     },
     "execution_count": 59,
     "metadata": {},
     "output_type": "execute_result"
    }
   ],
   "source": [
    "model2.best_params_"
   ]
  },
  {
   "cell_type": "code",
   "execution_count": 60,
   "metadata": {},
   "outputs": [
    {
     "data": {
      "text/plain": [
       "0.6557610241820768"
      ]
     },
     "execution_count": 60,
     "metadata": {},
     "output_type": "execute_result"
    }
   ],
   "source": [
    "model2.best_score_"
   ]
  },
  {
   "cell_type": "markdown",
   "metadata": {},
   "source": [
    "## Decision Tree Classifier"
   ]
  },
  {
   "cell_type": "code",
   "execution_count": 61,
   "metadata": {},
   "outputs": [
    {
     "data": {
      "text/plain": [
       "GridSearchCV(estimator=DecisionTreeClassifier(),\n",
       "             param_grid={'criterion': ('gini', 'entropy'),\n",
       "                         'min_samples_leaf': (1, 3, 4),\n",
       "                         'min_samples_split': (2, 4, 6),\n",
       "                         'splitter': ('best', 'random')},\n",
       "             return_train_score=True)"
      ]
     },
     "execution_count": 61,
     "metadata": {},
     "output_type": "execute_result"
    }
   ],
   "source": [
    "parameters = {'splitter':('best', 'random'),\n",
    "              'min_samples_split':(2, 4, 6),\n",
    "              'min_samples_leaf':(1, 3, 4),\n",
    "              'criterion':('gini', 'entropy')}\n",
    "m = DecisionTreeClassifier()\n",
    "model3 = GridSearchCV(m, parameters, return_train_score = True)\n",
    "model3.fit(X_train_new, y_train)"
   ]
  },
  {
   "cell_type": "code",
   "execution_count": 62,
   "metadata": {},
   "outputs": [
    {
     "name": "stdout",
     "output_type": "stream",
     "text": [
      "CPU times: user 635 µs, sys: 21 µs, total: 656 µs\n",
      "Wall time: 711 µs\n"
     ]
    },
    {
     "data": {
      "text/plain": [
       "(array([[0.0625    , 0.14583333],\n",
       "        [0.10416667, 0.08333333],\n",
       "        [0.04166667, 0.08333333]]),\n",
       " 0.4791666666666667)"
      ]
     },
     "execution_count": 62,
     "metadata": {},
     "output_type": "execute_result"
    }
   ],
   "source": [
    "%%time\n",
    "y_pred = model3.predict(X_test_new)\n",
    "get_errors(y_test, y_pred)"
   ]
  },
  {
   "cell_type": "code",
   "execution_count": 63,
   "metadata": {},
   "outputs": [
    {
     "data": {
      "text/plain": [
       "{'criterion': 'entropy',\n",
       " 'min_samples_leaf': 1,\n",
       " 'min_samples_split': 4,\n",
       " 'splitter': 'random'}"
      ]
     },
     "execution_count": 63,
     "metadata": {},
     "output_type": "execute_result"
    }
   ],
   "source": [
    "model3.best_params_"
   ]
  },
  {
   "cell_type": "code",
   "execution_count": 64,
   "metadata": {},
   "outputs": [
    {
     "data": {
      "text/plain": [
       "0.5554765291607398"
      ]
     },
     "execution_count": 64,
     "metadata": {},
     "output_type": "execute_result"
    }
   ],
   "source": [
    "model3.best_score_"
   ]
  },
  {
   "cell_type": "markdown",
   "metadata": {},
   "source": [
    "## XGBoost Classifier"
   ]
  },
  {
   "cell_type": "code",
   "execution_count": 65,
   "metadata": {},
   "outputs": [
    {
     "data": {
      "text/plain": [
       "GridSearchCV(estimator=XGBClassifier(base_score=None, booster=None,\n",
       "                                     colsample_bylevel=None,\n",
       "                                     colsample_bynode=None,\n",
       "                                     colsample_bytree=None, gamma=None,\n",
       "                                     gpu_id=None, importance_type='gain',\n",
       "                                     interaction_constraints=None,\n",
       "                                     learning_rate=None, max_delta_step=None,\n",
       "                                     max_depth=None, min_child_weight=None,\n",
       "                                     missing=nan, monotone_constraints=None,\n",
       "                                     n_estimators=100, n_jobs=None...\n",
       "                                     reg_alpha=None, reg_lambda=None,\n",
       "                                     scale_pos_weight=None, subsample=None,\n",
       "                                     tree_method=None, validate_parameters=None,\n",
       "                                     verbosity=None),\n",
       "             param_grid={'colsample_bytree': [0.5, 0.7],\n",
       "                         'learning_rate': [0.01, 0.1],\n",
       "                         'max_depth': [3, 5, 7, 10],\n",
       "                         'min_child_weight': [1, 3, 5],\n",
       "                         'n_estimators': [100, 200, 500],\n",
       "                         'objective': ['reg:squarederror'],\n",
       "                         'subsample': [0.5, 0.7]},\n",
       "             return_train_score=True)"
      ]
     },
     "execution_count": 65,
     "metadata": {},
     "output_type": "execute_result"
    }
   ],
   "source": [
    "parameters = {\n",
    "        'learning_rate': [0.01, 0.1],\n",
    "        'max_depth': [3, 5, 7, 10],\n",
    "        'min_child_weight': [1, 3, 5],\n",
    "        'subsample': [0.5, 0.7],\n",
    "        'colsample_bytree': [0.5, 0.7],\n",
    "        'n_estimators' : [100, 200, 500],\n",
    "        'objective': ['reg:squarederror']\n",
    "    }\n",
    "m = XGBClassifier()\n",
    "model4 = GridSearchCV(m, parameters, return_train_score = True)\n",
    "arr = np.array(y_train)\n",
    "arr1 = np.array(X_train_new)\n",
    "arr2 = np.array(X_test_new)\n",
    "model4.fit(arr1, arr)\n"
   ]
  },
  {
   "cell_type": "code",
   "execution_count": 66,
   "metadata": {},
   "outputs": [
    {
     "name": "stdout",
     "output_type": "stream",
     "text": [
      "CPU times: user 5.31 ms, sys: 864 µs, total: 6.18 ms\n",
      "Wall time: 2.1 ms\n"
     ]
    },
    {
     "data": {
      "text/plain": [
       "(array([[0.        , 0.02083333],\n",
       "        [0.02083333, 0.02083333],\n",
       "        [0.10416667, 0.08333333]]),\n",
       " 0.75)"
      ]
     },
     "execution_count": 66,
     "metadata": {},
     "output_type": "execute_result"
    }
   ],
   "source": [
    "%%time\n",
    "y_pred = model4.predict(arr2)\n",
    "get_errors(y_test, y_pred)"
   ]
  },
  {
   "cell_type": "code",
   "execution_count": 67,
   "metadata": {},
   "outputs": [
    {
     "data": {
      "text/plain": [
       "{'colsample_bytree': 0.7,\n",
       " 'learning_rate': 0.1,\n",
       " 'max_depth': 3,\n",
       " 'min_child_weight': 1,\n",
       " 'n_estimators': 100,\n",
       " 'objective': 'reg:squarederror',\n",
       " 'subsample': 0.7}"
      ]
     },
     "execution_count": 67,
     "metadata": {},
     "output_type": "execute_result"
    }
   ],
   "source": [
    "model4.best_params_"
   ]
  },
  {
   "cell_type": "code",
   "execution_count": 68,
   "metadata": {},
   "outputs": [
    {
     "data": {
      "text/plain": [
       "0.6823613086770981"
      ]
     },
     "execution_count": 68,
     "metadata": {},
     "output_type": "execute_result"
    }
   ],
   "source": [
    "model4.best_score_"
   ]
  },
  {
   "cell_type": "markdown",
   "metadata": {},
   "source": [
    "# Робота з відео"
   ]
  },
  {
   "cell_type": "markdown",
   "metadata": {},
   "source": [
    "За допомогою OpenCV обробимо 2 коротеньких відео, на яких є один чи інший об'єкт, застосовуючи до кожного 5го кадру кожну з моделей; бедмо писати поверх кадру в кожний момент, який саме об'єкт був знайдений і чи був знайдений взагалі. В результаті отримуємо 8 відео"
   ]
  },
  {
   "cell_type": "code",
   "execution_count": 85,
   "metadata": {},
   "outputs": [],
   "source": [
    "def create_video(file_name_read, file_name_write):\n",
    "    cap1 = cv2.VideoCapture(file_name_read)\n",
    "    frame_width = int(cap1.get(3))\n",
    "    frame_height = int(cap1.get(4))\n",
    "    out = cv2.VideoWriter(file_name_write,cv2.VideoWriter_fourcc('M','J','P','G'), 10, (frame_width,frame_height))\n",
    "    #set method here\n",
    "    # and don't forget to use appropriate model\n",
    "    akaze = cv2.AKAZE_create()\n",
    "    # features for text\n",
    "    font = cv2.FONT_HERSHEY_SIMPLEX \n",
    "    org = (50, 50) \n",
    "    fontScale = 1\n",
    "    color = (255, 0, 0) \n",
    "    thickness = 2\n",
    "    i = 0\n",
    "    while cap1.isOpened():\n",
    "        ret, frame = cap1.read() \n",
    "        if not ret:\n",
    "            break\n",
    "        if i%5 == 0:\n",
    "            kp,des = akaze.detectAndCompute(frame, None)\n",
    "            histogram = np.zeros(len(words))\n",
    "            for each_feature in des:\n",
    "                ind = find_index(each_feature, words)\n",
    "                histogram[ind] += 1\n",
    "            histogram = histogram.reshape(1, -1)\n",
    "            # трошки криво, тут вручну вказує номер моделі з якою працюємо\n",
    "            y_pred = model4.predict(histogram)\n",
    "            if y_pred == 1:\n",
    "                frame = cv2.putText(frame, 'Parfum', org, font,fontScale, color, thickness, cv2.LINE_AA)\n",
    "            if y_pred == 0:\n",
    "                frame = cv2.putText(frame, 'Budda', org, font,fontScale, color, thickness, cv2.LINE_AA)\n",
    "            if y_pred == 2:\n",
    "                frame = cv2.putText(frame, 'Nothing', org, font,fontScale, color, thickness, cv2.LINE_AA)\n",
    "            out.write(frame)\n",
    "        i = i+1\n",
    "    cap1.release()\n",
    "    out.release()\n",
    "    cv2.destroyAllWindows()"
   ]
  },
  {
   "cell_type": "code",
   "execution_count": 81,
   "metadata": {},
   "outputs": [],
   "source": [
    "create_video('/Users/anna/detection/video1.mp4', 'Videos/akaze_video1_gradient_boosting.avi')\n",
    "create_video('/Users/anna/detection/video2.mp4', 'Videos/akaze_video2_gradient_boosting.avi')"
   ]
  },
  {
   "cell_type": "code",
   "execution_count": 82,
   "metadata": {},
   "outputs": [],
   "source": [
    "create_video('/Users/anna/detection/video1.mp4', 'Videos/akaze_video1_random_forest.avi')\n",
    "create_video('/Users/anna/detection/video2.mp4', 'Videos/akaze_video2_random_forest.avi')"
   ]
  },
  {
   "cell_type": "code",
   "execution_count": 84,
   "metadata": {},
   "outputs": [],
   "source": [
    "create_video('/Users/anna/detection/video1.mp4', 'Videos/akaze_video1_decision_tree.avi')\n",
    "create_video('/Users/anna/detection/video2.mp4', 'Videos/akaze_video2_decision_tree.avi')"
   ]
  },
  {
   "cell_type": "code",
   "execution_count": 86,
   "metadata": {},
   "outputs": [],
   "source": [
    "create_video('/Users/anna/detection/video1.mp4', 'Videos/akaze_video1_xgboost.avi')\n",
    "create_video('/Users/anna/detection/video2.mp4', 'Videos/akaze_video2_xgboost.avi')"
   ]
  },
  {
   "cell_type": "code",
   "execution_count": null,
   "metadata": {},
   "outputs": [],
   "source": []
  }
 ],
 "metadata": {
  "kernelspec": {
   "display_name": "p36workshop",
   "language": "python",
   "name": "p36workshop"
  },
  "language_info": {
   "codemirror_mode": {
    "name": "ipython",
    "version": 3
   },
   "file_extension": ".py",
   "mimetype": "text/x-python",
   "name": "python",
   "nbconvert_exporter": "python",
   "pygments_lexer": "ipython3",
   "version": "3.6.10"
  }
 },
 "nbformat": 4,
 "nbformat_minor": 2
}
